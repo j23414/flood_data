{
 "cells": [
  {
   "cell_type": "code",
   "execution_count": 1,
   "metadata": {
    "collapsed": true
   },
   "outputs": [],
   "source": [
    "import sys\n",
    "import matplotlib\n",
    "#matplotlib.use('Agg')\n",
    "import matplotlib.pyplot as plt\n",
    "import pandas as pd\n",
    "import numpy as np\n",
    "matplotlib.rcParams.update({'font.size': 8})\n",
    "matplotlib.rcParams['font.family'] = 'sans-serif'\n",
    "matplotlib.rcParams['font.sans-serif'] = ['Arial']\n"
   ]
  },
  {
   "cell_type": "code",
   "execution_count": 2,
   "metadata": {
    "collapsed": true
   },
   "outputs": [],
   "source": [
    "def plot_results(ax, df, true_col, pred_col, set_name, model_name, fmt='o', \n",
    "        alpha=0.5, label='training', ax_title=''):\n",
    "    # df = df[df[true_col] > 0]\n",
    "    df = df[df[pred_col] <= 159]\n",
    "\n",
    "    rmse = (((df[true_col] - df[pred_col])**2).mean())**0.5\n",
    "    mae = (abs(df[true_col] - df[pred_col])).mean()\n",
    "    print (rmse, mae)\n",
    "\n",
    "    df = df[[true_col, pred_col]]\n",
    "    max_val = df.max().max()*1.05\n",
    "    print (df.max())\n",
    "    dfp = df.pivot(columns=true_col, values=pred_col)\n",
    "    x = dfp.columns\n",
    "    y = dfp.mean()\n",
    "    posyerr = dfp.max() - dfp.mean()\n",
    "    negyerr = dfp.mean() - dfp.min()\n",
    "    yerr = dfp.std()\n",
    "    ax.errorbar(x, y, yerr=yerr, fmt=fmt, lw=1, ms=4, alpha=alpha, label=label)\n",
    "    ax.legend()\n",
    "    ax.plot((0, 1000), (0, 1000), ls=\"--\", c=\"darkgray\", lw=1.2)\n",
    "    ax.tick_params('y', which='minor', left='off')\n",
    "    # if set_name == 'testing':\n",
    "        # ax.text(0, max_val*0.8, 'Test RMSE: {}'.format(round(rmse, 2)), \n",
    "                # ha='left')\n",
    "        # ax.text(0, max_val*0.75, 'Test MAE: {}'.format(round(mae, 2)), \n",
    "                # ha='left')\n",
    "    ax.set_title(ax_title)\n",
    "    ax.set_xlim((-5, max_val))\n",
    "    ax.set_ylim((-5, max_val))\n",
    "    ax.set_xticks(range(0,160,25))\n",
    "    ax.set_yticks(range(0,160,25))\n",
    "    ax.set_xticklabels(range(0,160,25))\n",
    "    ax.set_yticklabels(range(0,160,25))\n",
    "    ax.set_xlabel('True number of flood reports')\n",
    "    ax.set_ylabel('Predicted number of flood reports')\n",
    "    ax.set_aspect('equal', adjustable='box-forced')\n",
    "    return ax"
   ]
  },
  {
   "cell_type": "code",
   "execution_count": 3,
   "metadata": {
    "collapsed": true
   },
   "outputs": [],
   "source": [
    "def plot_trn_tst_together(model_type, suffix, axs, ax_title=''):\n",
    "    df_trn_res = pd.read_csv('../data/{}_{}_train.csv'.format(model_type, suffix), \n",
    "                             header=-1)\n",
    "    axs = plot_results(axs, df_trn_res, 1, 2, 'training', \n",
    "                       model_type, label='training', alpha=0.5, \n",
    "                       ax_title=ax_title)\n",
    "    df_tst_res = pd.read_csv('../data/{}_{}_test.csv'.format(model_type, suffix), \n",
    "                             header=-1)\n",
    "    axs = plot_results(axs, df_tst_res, 1, 2, 'testing', \n",
    "                       model_type, fmt='v', alpha=0.5, label='evaluation', \n",
    "                       ax_title=ax_title)\n",
    "    return axs"
   ]
  },
  {
   "cell_type": "code",
   "execution_count": 4,
   "metadata": {
    "collapsed": true
   },
   "outputs": [],
   "source": [
    "def plot_model_seperately(model_type, suffix):\n",
    "    fig,axs = plt.subplots(nrows=1, ncols=1, squeeze=True, sharey=True, \n",
    "                           sharex=True, figsize=(3.5, 3.5))\n",
    "    plot_trn_tst_together(model_type, suffix, axs)\n",
    "    plt.tight_layout()\n",
    "    plt.savefig('../data/results_{}_{}.png'.format(model_type, suffix), \n",
    "                dpi=300)\n",
    "    plt.savefig('../data/results_{}_{}.eps'.format(model_type, suffix), \n",
    "                dpi=1000)\n",
    "    plt.show()"
   ]
  },
  {
   "cell_type": "code",
   "execution_count": 5,
   "metadata": {
    "collapsed": true
   },
   "outputs": [],
   "source": [
    "def plot_side_by_side(models, suffix):\n",
    "    fig,axs = plt.subplots(nrows=1, ncols=2, squeeze=True, sharey=True, \n",
    "                           sharex=True, figsize=(6.5, 3.5))\n",
    "    axs = axs.ravel()\n",
    "    labels = ['Poisson Regression', 'Random Forest']\n",
    "    for i, m in enumerate(models):\n",
    "        plot_trn_tst_together(m, suffix, axs[i], labels[i])\n",
    "    plt.tight_layout()\n",
    "    plt.savefig('../data/{}_results_together.png'.format(suffix), dpi=300)\n",
    "    plt.savefig('../data/{}_results_together.eps'.format(suffix), dpi=1000)\n",
    "    plt.show()\n"
   ]
  },
  {
   "cell_type": "code",
   "execution_count": 6,
   "metadata": {},
   "outputs": [
    {
     "name": "stdout",
     "output_type": "stream",
     "text": [
      "plotting for poisson\n",
      "1.014812542902959 0.1710596613368409\n",
      "1    159.000000\n",
      "2    158.992345\n",
      "dtype: float64\n",
      "6.515572083620591 0.8227964628973149\n",
      "1    159.000000\n",
      "2    156.322506\n",
      "dtype: float64\n"
     ]
    },
    {
     "data": {
      "image/png": "[encoded data removed]",
      "text/plain": [
       "<matplotlib.figure.Figure at 0x112e31ac8>"
      ]
     },
     "metadata": {},
     "output_type": "display_data"
    },
    {
     "name": "stdout",
     "output_type": "stream",
     "text": [
      "plotting for rf\n",
      "1.8711008038420642 0.25210453449716663\n",
      "1    159.0000\n",
      "2    133.5085\n",
      "dtype: float64\n",
      "4.292463065202305 0.6360043017122237\n",
      "1    159.000\n",
      "2    111.059\n",
      "dtype: float64\n"
     ]
    },
    {
     "data": {
      "image/png": "[encoded data removed]",
      "text/plain": [
       "<matplotlib.figure.Figure at 0x112e310f0>"
      ]
     },
     "metadata": {},
     "output_type": "display_data"
    }
   ],
   "source": [
    "try:\n",
    "    #suffix = sys.argv[1]\n",
    "    suffix = 'out'\n",
    "except IndexError:\n",
    "    raise IndexError(\"No argument given for suffix, should be first command \\\n",
    "                     line arg\")\n",
    "\n",
    "models = ['poisson', 'rf']\n",
    "for m in models:\n",
    "    print (\"plotting for {}\".format(m))\n",
    "    plot_model_seperately(m, suffix)\n",
    "\n",
    "#plot_side_by_side(models, suffix)\n"
   ]
  },
  {
   "cell_type": "code",
   "execution_count": null,
   "metadata": {
    "collapsed": true
   },
   "outputs": [],
   "source": []
  },
  {
   "cell_type": "code",
   "execution_count": null,
   "metadata": {
    "collapsed": true
   },
   "outputs": [],
   "source": []
  },
  {
   "cell_type": "code",
   "execution_count": null,
   "metadata": {
    "collapsed": true
   },
   "outputs": [],
   "source": []
  }
 ],
 "metadata": {
  "kernelspec": {
   "display_name": "Python 3",
   "language": "python",
   "name": "python3"
  },
  "language_info": {
   "codemirror_mode": {
    "name": "ipython",
    "version": 3
   },
   "file_extension": ".py",
   "mimetype": "text/x-python",
   "name": "python",
   "nbconvert_exporter": "python",
   "pygments_lexer": "ipython3",
   "version": "3.6.3"
  }
 },
 "nbformat": 4,
 "nbformat_minor": 2
}
