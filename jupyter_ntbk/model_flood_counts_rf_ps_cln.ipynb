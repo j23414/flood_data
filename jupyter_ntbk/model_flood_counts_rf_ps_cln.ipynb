{
 "cells": [
  {
   "cell_type": "code",
   "execution_count": null,
   "metadata": {
    "collapsed": true
   },
   "outputs": [],
   "source": [
    "library(caret)\n",
    "library(randomForest)"
   ]
  },
  {
   "cell_type": "code",
   "execution_count": null,
   "metadata": {
    "collapsed": true
   },
   "outputs": [],
   "source": [
    "run_model = function(model_type, trn_data, trn_in_data, trn_out_data, tst_in_data, tst_out_data, fmla){\n",
    "  if (model_type == 'poisson'){\n",
    "    print('normalizing')\n",
    "  \ttrain_col_stds = apply(trn_in_data, 2, sd)\n",
    "  \ttrain_col_means = colMeans(trn_in_data)\n",
    "  \n",
    "  \ttrain_normalized = t((t(trn_in_data)-train_col_means)/train_col_stds)\n",
    "  \ttest_normalized = t((t(tst_in_data)-train_col_means)/train_col_stds)\n",
    "  \n",
    "  \tpca = prcomp(train_normalized)\n",
    "  \n",
    "  \ttrn_preprocessed = predict(pca, train_normalized)\n",
    "  \ttst_preprocessed = predict(pca, test_normalized)\n",
    "  \n",
    "  \tfmla = as.formula(paste(out_col_name, \"~\", paste(colnames(trn_preprocessed), collapse=\"+\")))\n",
    "  \n",
    "  \ttrain_data = cbind(as.data.frame(trn_preprocessed), num_flooded = model_data[prt$Resample1, out_col_name])\n",
    "  \ttrn_in_data = trn_preprocessed\n",
    "  \ttst_in_data = tst_preprocessed\n",
    "  \toutput = glm(fmla, data=train_data, family = poisson)\n",
    "  }\n",
    "  else if (model_type == 'rf'){\n",
    "\toutput = randomForest(fmla, data=trn_data, importance = TRUE, ntree=100, mtry=16)\n",
    "\timpo = as.data.frame(output$importance)\n",
    "\timpo = impo[,1]\n",
    "  }\n",
    "\n",
    "  pred_trn = predict(output, newdata = as.data.frame(trn_in_data), type='response')\n",
    "  pred_tst = predict(output, newdata = as.data.frame(tst_in_data), type='response')\n",
    "  \n",
    "  if (model_type == 'rf'){\n",
    "       return(list(pred_trn, pred_tst, impo))\n",
    "  }\n",
    "  else {\n",
    "       return(list(pred_trn, pred_tst))\n",
    "  }\n",
    "  \n",
    "}\n",
    "\n",
    "remove_cols= function(l, cols){\n",
    "    return(l[! l %in% cols])\n",
    "}\n"
   ]
  },
  {
   "cell_type": "code",
   "execution_count": null,
   "metadata": {
    "collapsed": true
   },
   "outputs": [],
   "source": [
    "df = read.csv('for_model_avgs.csv', )\n",
    "\n",
    "colnames(df)\n",
    "\n",
    "set.seed(5)\n",
    "\n",
    "df = df[df[,'rd']>0.01,]\n",
    "\n",
    "cols_to_remove = c('event_name', 'event_date', 'num_flooded')\n",
    "in_col_names = remove_cols(colnames(df), cols_to_remove)\n",
    "out_col_name = 'num_flooded'\n",
    "\n",
    "model_data = df[, append(in_col_names, out_col_name)]\n",
    "model_data = na.omit(model_data)\n",
    "\n",
    "import_df = data.frame(matrix(nrow=length(in_col_names)))\n",
    "all_pred_tst = c()\n",
    "all_pred_trn = c()\n",
    "all_tst = c()\n",
    "all_trn = c()\n",
    "fomla = as.formula(paste(out_col_name, \"~\", paste(in_col_names, collapse=\"+\")))\n",
    "model_types = c('rf', 'poisson')\n",
    "suffix = 'out'"
   ]
  },
  {
   "cell_type": "code",
   "execution_count": null,
   "metadata": {
    "collapsed": true
   },
   "outputs": [],
   "source": [
    "for (i in 1:101){\n",
    "  prt = createDataPartition(model_data[, out_col_name], p=0.7)\n",
    "  train_data = model_data[prt$Resample1,]\n",
    "  train_in_data = data.frame(train_data[, in_col_names])\n",
    "  colnames(train_in_data) = in_col_names\n",
    "  train_out_data = train_data[, out_col_name]\n",
    "  test_in_data = data.frame(model_data[-prt$Resample1, in_col_names])\n",
    "  colnames(test_in_data) = in_col_names\n",
    "  test_out_data = model_data[-prt$Resample1, out_col_name]\n",
    "  \n",
    "  for (model in model_types){\n",
    "\t  print(paste(\"run: \", i, sep = ''))\n",
    "    \n",
    "    model_results = run_model(model, train_data, train_in_data, train_out_data, test_in_data, test_out_data, fomla)\n",
    "\t  pred_train = model_results[1]\n",
    "\t  pred_test = model_results[2]\n",
    "\n",
    "\t  all_trn_df = data.frame(train_out_data, unlist(pred_train))\n",
    "\t  colnames(all_trn_df) = c('all_trn', 'all_pred_trn')\n",
    "\t  all_tst_df = data.frame(test_out_data, unlist(pred_test))\n",
    "\t  colnames(all_tst_df) = c('all_tst', 'all_pred_tst')\n",
    "\t  write.table(all_trn_df, paste(model, '_', suffix, '_train.csv', sep=\"\"), append=TRUE,  sep=\",\", col.names = F)\n",
    "\t  write.table(all_tst_df, paste(model, '_', suffix, '_test.csv', sep=\"\"), append=TRUE,  sep=\",\", col.names = F)\n",
    "\n",
    "\t  if (model == 'rf'){\n",
    "      impo = model_results[3]\n",
    "\t    import_df = cbind(import_df, impo)\n",
    "\t  }\n",
    "\t}\n",
    "}"
   ]
  },
  {
   "cell_type": "code",
   "execution_count": null,
   "metadata": {
    "collapsed": true
   },
   "outputs": [],
   "source": [
    "colnames(import_df) = 1:ncol(import_df)\n",
    "row.names(import_df) = in_col_names\n",
    "write.csv(import_df, paste('rf_impo_', suffix, sep=\"\"), append=TRUE)"
   ]
  }
 ],
 "metadata": {
  "kernelspec": {
   "display_name": "Python 2",
   "language": "python",
   "name": "python2"
  },
  "language_info": {
   "codemirror_mode": {
    "name": "ipython",
    "version": 2
   },
   "file_extension": ".py",
   "mimetype": "text/x-python",
   "name": "python",
   "nbconvert_exporter": "python",
   "pygments_lexer": "ipython2",
   "version": "2.7.13"
  }
 },
 "nbformat": 4,
 "nbformat_minor": 2
}
